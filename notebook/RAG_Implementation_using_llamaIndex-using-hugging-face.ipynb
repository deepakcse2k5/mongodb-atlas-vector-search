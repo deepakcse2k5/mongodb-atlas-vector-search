{
 "cells": [
  {
   "cell_type": "code",
   "execution_count": null,
   "id": "3e99774c-1545-4554-9112-e11da8035b97",
   "metadata": {},
   "outputs": [],
   "source": [
    "import getpass, os, pymongo, pprint\n",
    "from llama_index.core import SimpleDirectoryReader, VectorStoreIndex, StorageContext, ServiceContext,load_index_from_storage\n",
    "from llama_index.core.settings import Settings\n",
    "from llama_index.core.retrievers import VectorIndexRetriever\n",
    "from llama_index.core.vector_stores import MetadataFilter, MetadataFilters, ExactMatchFilter, FilterOperator\n",
    "from llama_index.core.query_engine import RetrieverQueryEngine\n",
    "from llama_index.embeddings.openai import OpenAIEmbedding\n",
    "from llama_index.llms.openai import OpenAI\n",
    "from llama_index.vector_stores.mongodb import MongoDBAtlasVectorSearch\n",
    "from sentence_transformers import SentenceTransformer"
   ]
  },
  {
   "cell_type": "code",
   "execution_count": null,
   "id": "39c08736-8177-4288-b68b-0073bc9bd5df",
   "metadata": {},
   "outputs": [],
   "source": [
    "import yaml\n",
    "import pymongo\n",
    "import json\n",
    "import numpy as np"
   ]
  },
  {
   "cell_type": "code",
   "execution_count": null,
   "id": "89ea887a-930f-40cd-bb46-cec683e5884c",
   "metadata": {},
   "outputs": [],
   "source": [
    "with open('../config.yaml', 'r') as stream:\n",
    "    config = yaml.safe_load(stream)\n",
    "\n",
    "# Load the configuration from the config.yaml file\n",
    "mongo_uri = config['mongodb']['mongo_uri']\n",
    "db_name = config['mongodb']['db_name']\n",
    "collection_name = config['mongodb']['ucce_collection_name']"
   ]
  },
  {
   "cell_type": "code",
   "execution_count": null,
   "id": "6e839246-c168-41e8-9ac2-3c21ebc341a7",
   "metadata": {},
   "outputs": [],
   "source": [
    "directory_path = '../data'\n",
    "pdf_files = [os.path.join(directory_path, f) for f in os.listdir(directory_path) if f.endswith('.pdf')]\n"
   ]
  },
  {
   "cell_type": "code",
   "execution_count": null,
   "id": "370f5a3e-1736-4fde-ae4e-0238ad929333",
   "metadata": {},
   "outputs": [],
   "source": [
    "sample_data = SimpleDirectoryReader(input_files=pdf_files).load_data()"
   ]
  },
  {
   "cell_type": "code",
   "execution_count": null,
   "id": "365a7032-07cc-46be-937f-afea5e9daf30",
   "metadata": {},
   "outputs": [],
   "source": [
    "sample_data[0]"
   ]
  },
  {
   "cell_type": "code",
   "execution_count": null,
   "id": "744ed8ea-4ef4-4efc-b7a6-c2cb2481a564",
   "metadata": {},
   "outputs": [],
   "source": [
    "# Connect to your Atlas cluster\n",
    "mongodb_client = pymongo.MongoClient(mongo_uri)"
   ]
  },
  {
   "cell_type": "code",
   "execution_count": null,
   "id": "8a665274-a864-4ce7-a621-d23c88c3ab6f",
   "metadata": {},
   "outputs": [],
   "source": [
    "import os\n",
    "os.environ[\"TOKENIZERS_PARALLELISM\"] = \"true\""
   ]
  },
  {
   "cell_type": "code",
   "execution_count": null,
   "id": "4a75c853-d79d-4543-8305-03cde0c37188",
   "metadata": {},
   "outputs": [],
   "source": [
    "%env OPENAI_API_KEY=\"open_ai_key\""
   ]
  },
  {
   "cell_type": "code",
   "execution_count": null,
   "id": "6e2a9719-2f17-42ad-9371-fdbaa4f19099",
   "metadata": {},
   "outputs": [],
   "source": [
    "os.environ[\"OPENAI_API_KEY\"] = 'open_ai_key'"
   ]
  },
  {
   "cell_type": "code",
   "execution_count": null,
   "id": "d14bf28b-b1fa-499e-a56d-9e966752e2c4",
   "metadata": {},
   "outputs": [],
   "source": [
    "collection = mongodb_client[db_name][collection_name]"
   ]
  },
  {
   "cell_type": "code",
   "execution_count": null,
   "id": "342f6bb6-685f-4bc8-bd6a-6a604c197520",
   "metadata": {},
   "outputs": [],
   "source": [
    "# collection.delete_many({})"
   ]
  },
  {
   "cell_type": "code",
   "execution_count": null,
   "id": "6d043d27-ba10-418f-a255-36782aff673e",
   "metadata": {},
   "outputs": [],
   "source": [
    "from llama_index.embeddings.huggingface import HuggingFaceEmbedding\n",
    "from llama_index.core import Settings\n",
    "Settings.llm = OpenAI()\n",
    "\n",
    "Settings.embed_model = HuggingFaceEmbedding(model_name='nli-mpnet-base-v2')"
   ]
  },
  {
   "cell_type": "code",
   "execution_count": null,
   "id": "9e1fa734-27e3-40ca-b23e-46b0ee747264",
   "metadata": {},
   "outputs": [],
   "source": [
    "# Instantiate the vector store\n",
    "atlas_vector_search = MongoDBAtlasVectorSearch(\n",
    "    mongodb_client,\n",
    "    db_name = db_name,\n",
    "    collection_name = collection_name,\n",
    "    index_name = \"vector_llama_index\"\n",
    ")\n",
    "vector_store_context = StorageContext.from_defaults(vector_store=atlas_vector_search)"
   ]
  },
  {
   "cell_type": "code",
   "execution_count": null,
   "id": "97ab4afc-96ff-4ff5-b308-4658c8e85ca9",
   "metadata": {},
   "outputs": [],
   "source": [
    "vector_store_index = VectorStoreIndex.from_documents(\n",
    "   sample_data, storage_context=vector_store_context, show_progress=True\n",
    ")"
   ]
  },
  {
   "cell_type": "code",
   "execution_count": null,
   "id": "e3e04718-30e7-479e-903f-ecc49a734c8d",
   "metadata": {},
   "outputs": [],
   "source": [
    "index = VectorStoreIndex.from_documents(sample_data)"
   ]
  },
  {
   "cell_type": "code",
   "execution_count": null,
   "id": "4ac7a5db-31e8-4cf0-8bd6-7a9abd9e6e5e",
   "metadata": {},
   "outputs": [],
   "source": [
    "# !pip install llama-index-retrievers-bm25"
   ]
  },
  {
   "cell_type": "markdown",
   "id": "c8760330-98c9-46dd-a37a-bc4531059a33",
   "metadata": {},
   "source": [
    "### Hybrid Fusion Retriever using Relative Score Fusion"
   ]
  },
  {
   "cell_type": "code",
   "execution_count": null,
   "id": "39331699-8d1e-4905-b2df-f2c1a57102a7",
   "metadata": {},
   "outputs": [],
   "source": [
    "from llama_index.retrievers.bm25 import BM25Retriever\n",
    "\n",
    "vector_retriever = index.as_retriever(similarity_top_k=5)\n",
    "\n",
    "bm25_retriever = BM25Retriever.from_defaults(\n",
    "    docstore=index.docstore, similarity_top_k=10\n",
    ")"
   ]
  },
  {
   "cell_type": "code",
   "execution_count": null,
   "id": "7386aea3-8122-4623-8704-54250942c832",
   "metadata": {},
   "outputs": [],
   "source": [
    "# apply nested async to run in a notebook\n",
    "import nest_asyncio\n",
    "\n",
    "nest_asyncio.apply()"
   ]
  },
  {
   "cell_type": "code",
   "execution_count": null,
   "id": "3971400c-5284-4b7d-9222-4c94cd2e39e5",
   "metadata": {},
   "outputs": [],
   "source": [
    "from llama_index.core.retrievers import QueryFusionRetriever\n",
    "\n",
    "retriever = QueryFusionRetriever(\n",
    "    [vector_retriever, bm25_retriever],\n",
    "    retriever_weights=[0.5, 0.5],\n",
    "    similarity_top_k=10,\n",
    "    num_queries=1,  # set this to 1 to disable query generation\n",
    "    mode=\"relative_score\",\n",
    "    use_async=True,\n",
    "    verbose=True,\n",
    ")\n",
    "\n",
    "nodes_with_scores = retriever.retrieve(\n",
    "    \"query\"\n",
    ")\n",
    "\n",
    "for node in nodes_with_scores:\n",
    "    print(f\"Score: {node.score:.2f} - {node.text[:100]}...\\n-----\")"
   ]
  },
  {
   "cell_type": "code",
   "execution_count": null,
   "id": "22ef3029-6517-4a48-91bf-a5bb059ce87b",
   "metadata": {},
   "outputs": [],
   "source": [
    "from llama_index.core.query_engine import RetrieverQueryEngine\n",
    "\n",
    "query_engine = RetrieverQueryEngine.from_args(retriever)"
   ]
  },
  {
   "cell_type": "code",
   "execution_count": null,
   "id": "dba5a305-3329-4664-94ac-1491103781e0",
   "metadata": {},
   "outputs": [],
   "source": [
    "response = query_engine.query(\"query\")"
   ]
  },
  {
   "cell_type": "code",
   "execution_count": null,
   "id": "bb65bedc-abd7-4794-be76-255821c3bae8",
   "metadata": {},
   "outputs": [],
   "source": [
    "from llama_index.core.response.notebook_utils import display_response\n",
    "\n",
    "display_response(response)"
   ]
  },
  {
   "cell_type": "markdown",
   "id": "3d5c7971-d1b4-40f0-8aea-37fae55ebb98",
   "metadata": {},
   "source": [
    "### Hybrid Fusion Retriever using Distribution Based Score Fusion"
   ]
  },
  {
   "cell_type": "code",
   "execution_count": null,
   "id": "ca373fd9-cbb9-4bce-af5f-94b62bcac8fe",
   "metadata": {},
   "outputs": [],
   "source": [
    "from llama_index.core.retrievers import QueryFusionRetriever\n",
    "\n",
    "retriever = QueryFusionRetriever(\n",
    "    [vector_retriever, bm25_retriever],\n",
    "    retriever_weights=[0.5, 0.5],\n",
    "    similarity_top_k=10,\n",
    "    num_queries=1,  # set this to 1 to disable query generation\n",
    "    mode=\"dist_based_score\",\n",
    "    use_async=True,\n",
    "    verbose=True,\n",
    ")\n",
    "\n",
    "nodes_with_scores = retriever.retrieve(\n",
    "    \"query\"\n",
    ")\n",
    "\n",
    "for node in nodes_with_scores:\n",
    "    print(f\"Score: {node.score:.2f} - {node.text[:100]}...\\n-----\")"
   ]
  },
  {
   "cell_type": "code",
   "execution_count": null,
   "id": "c8086b9f-c87b-4e0f-9882-b649743bc7e5",
   "metadata": {},
   "outputs": [],
   "source": [
    "response = query_engine.query(\"query\")"
   ]
  },
  {
   "cell_type": "code",
   "execution_count": null,
   "id": "565c2a69-b8a5-4f8b-87c8-430503079615",
   "metadata": {},
   "outputs": [],
   "source": [
    "from llama_index.core.response.notebook_utils import display_response\n",
    "\n",
    "display_response(response)"
   ]
  },
  {
   "cell_type": "markdown",
   "id": "df2a8402-84cb-49e9-8171-12140d970d3e",
   "metadata": {},
   "source": [
    "### Basic RAG"
   ]
  },
  {
   "cell_type": "code",
   "execution_count": null,
   "id": "fb090183-5c41-4091-8d49-98e496eb1252",
   "metadata": {},
   "outputs": [],
   "source": [
    "import pprint\n",
    "from llama_index.core.response.notebook_utils import display_response\n",
    "\n",
    "query_engine = index.as_query_engine(similarity_top_k=3)\n",
    "query = \"query\"\n",
    "response = query_engine.query(query)\n",
    "display_response(response)\n",
    "pprint.pprint(response.source_nodes)"
   ]
  },
  {
   "cell_type": "code",
   "execution_count": null,
   "id": "8b9d2512-78b8-4823-8595-21eed210db62",
   "metadata": {},
   "outputs": [],
   "source": []
  },
  {
   "cell_type": "code",
   "execution_count": null,
   "id": "bd5ed161-b05a-4fc5-9652-d9df679cff5b",
   "metadata": {},
   "outputs": [],
   "source": []
  },
  {
   "cell_type": "code",
   "execution_count": null,
   "id": "116c434b-4d5e-4e1e-be02-f9e2ab0f8e1c",
   "metadata": {},
   "outputs": [],
   "source": []
  },
  {
   "cell_type": "code",
   "execution_count": null,
   "id": "5b820c94-e5fa-487c-ba33-76f9e3a8a64a",
   "metadata": {},
   "outputs": [],
   "source": []
  }
 ],
 "metadata": {
  "kernelspec": {
   "display_name": "Python 3 (ipykernel)",
   "language": "python",
   "name": "python3"
  },
  "language_info": {
   "codemirror_mode": {
    "name": "ipython",
    "version": 3
   },
   "file_extension": ".py",
   "mimetype": "text/x-python",
   "name": "python",
   "nbconvert_exporter": "python",
   "pygments_lexer": "ipython3",
   "version": "3.10.14"
  }
 },
 "nbformat": 4,
 "nbformat_minor": 5
}
