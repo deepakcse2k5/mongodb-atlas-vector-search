{
 "cells": [
  {
   "cell_type": "code",
   "execution_count": 1,
   "metadata": {},
   "outputs": [],
   "source": [
    "import getpass, os, pymongo, pprint\n",
    "from langchain_community.document_loaders import PyPDFLoader\n",
    "from langchain_core.output_parsers import StrOutputParser\n",
    "from langchain_core.runnables import RunnablePassthrough\n",
    "from langchain_mongodb import MongoDBAtlasVectorSearch\n",
    "from langchain_openai import ChatOpenAI, OpenAIEmbeddings\n",
    "from langchain.prompts import PromptTemplate\n",
    "from langchain.text_splitter import RecursiveCharacterTextSplitter\n",
    "from pymongo import MongoClient"
   ]
  },
  {
   "cell_type": "code",
   "execution_count": 2,
   "metadata": {},
   "outputs": [],
   "source": [
    "from sentence_transformers import SentenceTransformer"
   ]
  },
  {
   "cell_type": "code",
   "execution_count": 3,
   "metadata": {},
   "outputs": [
    {
     "name": "stderr",
     "output_type": "stream",
     "text": [
      "/Users/deemish2/mongo-atlas/lib/python3.10/site-packages/huggingface_hub/file_download.py:1132: FutureWarning: `resume_download` is deprecated and will be removed in version 1.0.0. Downloads always resume when possible. If you want to force a new download, use `force_download=True`.\n",
      "  warnings.warn(\n",
      "/Users/deemish2/mongo-atlas/lib/python3.10/site-packages/huggingface_hub/file_download.py:1132: FutureWarning: `resume_download` is deprecated and will be removed in version 1.0.0. Downloads always resume when possible. If you want to force a new download, use `force_download=True`.\n",
      "  warnings.warn(\n"
     ]
    }
   ],
   "source": [
    "# model = SentenceTransformer('BAAI/bge-large-en-v1.5')"
   ]
  },
  {
   "cell_type": "code",
   "execution_count": 4,
   "metadata": {},
   "outputs": [],
   "source": [
    "# model.save('./model')"
   ]
  },
  {
   "cell_type": "code",
   "execution_count": 5,
   "metadata": {},
   "outputs": [],
   "source": [
    "model = SentenceTransformer('./model')"
   ]
  },
  {
   "cell_type": "code",
   "execution_count": 6,
   "metadata": {},
   "outputs": [],
   "source": [
    "\n",
    "MONGO_URI = \"<connetion string>\"\n",
    "DB_NAME = \"\"\n",
    "COLLECTION_NAME = \"\""
   ]
  },
  {
   "cell_type": "code",
   "execution_count": 7,
   "metadata": {},
   "outputs": [],
   "source": [
    "\n",
    "ATLAS_CONNECTION_STRING = getpass.getpass(MONGO_URI)"
   ]
  },
  {
   "cell_type": "code",
   "execution_count": 8,
   "metadata": {},
   "outputs": [],
   "source": [
    "# Connect to your Atlas cluster\n",
    "mongodb_client = pymongo.MongoClient(MONGO_URI)\n",
    "\n",
    "# Define collection and index name\n",
    "db_name = \"\"\n",
    "collection_name = \"\"\n",
    "atlas_collection = mongodb_client[db_name][collection_name]\n",
    "vector_search_index = \"vector_index\""
   ]
  },
  {
   "cell_type": "code",
   "execution_count": 9,
   "metadata": {},
   "outputs": [
    {
     "data": {
      "text/plain": [
       "Document(page_content='CHAPTER 3\\nContact Center Enterprise Solutions Overview\\n•ContactCenterSolutionsArchitecture ,onpage35\\n•CoreComponents ,onpage37\\n•OptionalCiscoComponents ,onpage67\\n•Third-Party Components ,onpage72', metadata={'source': '../input/ucce_b_ucce_soldg-for-unified-cce-1262-pages-61-120-pages-1.pdf', 'page': 0})"
      ]
     },
     "execution_count": 9,
     "metadata": {},
     "output_type": "execute_result"
    }
   ],
   "source": [
    "# Load the PDF\n",
    "loader = PyPDFLoader(\"../input/ucce_b_ucce_soldg-for-unified-cce-1262-pages-61-120-pages-1.pdf\")\n",
    "data = loader.load()\n",
    "\n",
    "# Split PDF into documents\n",
    "text_splitter = RecursiveCharacterTextSplitter(chunk_size=200, chunk_overlap=20)\n",
    "docs = text_splitter.split_documents(data)\n",
    "\n",
    "# Print the first document\n",
    "docs[0]"
   ]
  },
  {
   "cell_type": "code",
   "execution_count": 10,
   "metadata": {},
   "outputs": [],
   "source": [
    "class CustomEmbedder:\n",
    "    def __init__(self, model):\n",
    "        self.model = model\n",
    "\n",
    "    def embed_documents(self, documents):\n",
    "        embeddings = []\n",
    "        for doc in documents:\n",
    "            embedding = self.model.encode(doc)\n",
    "            embeddings.append(embedding.tolist())\n",
    "        return embeddings\n",
    "\n",
    "    def embed_query(self, query):\n",
    "        return self.model.encode(query).tolist()\n",
    "\n",
    "# Create an instance of the custom embedder\n",
    "embedder = CustomEmbedder(model)"
   ]
  },
  {
   "cell_type": "code",
   "execution_count": 11,
   "metadata": {},
   "outputs": [],
   "source": [
    "# model = SentenceTransformer('BAAI/bge-large-en-v1.5')\n",
    "# Create the vector store\n",
    "vector_search = MongoDBAtlasVectorSearch.from_documents(\n",
    "    documents = docs,\n",
    "    embedding = embedder,\n",
    "    collection = atlas_collection,\n",
    "    index_name = vector_search_index\n",
    ")"
   ]
  },
  {
   "cell_type": "code",
   "execution_count": null,
   "metadata": {},
   "outputs": [],
   "source": [
    "query = \"\"\n",
    "\n",
    "# Perform similarity search\n",
    "results = vector_search.similarity_search(query)\n",
    "\n",
    "#Print the results\n",
    "pprint.pprint(results)\n"
   ]
  },
  {
   "cell_type": "code",
   "execution_count": null,
   "metadata": {},
   "outputs": [],
   "source": []
  },
  {
   "cell_type": "code",
   "execution_count": null,
   "metadata": {},
   "outputs": [],
   "source": [
    "# semantic search with score\n",
    "query = \"\"\n",
    "results = vector_search.similarity_search_with_score(\n",
    "   query = query, k = 3\n",
    ")\n",
    "pprint.pprint(results)"
   ]
  },
  {
   "cell_type": "code",
   "execution_count": null,
   "metadata": {},
   "outputs": [],
   "source": [
    "# semantic search with filtering\n",
    "query = \"\"\n",
    "results = vector_search.similarity_search_with_score(\n",
    "   query = query,\n",
    "   k = 3,\n",
    "   pre_filter = { \"page\": { \"$eq\": 8 } }\n",
    ")\n",
    "pprint.pprint(results)"
   ]
  },
  {
   "cell_type": "code",
   "execution_count": null,
   "metadata": {},
   "outputs": [],
   "source": []
  },
  {
   "cell_type": "code",
   "execution_count": null,
   "metadata": {},
   "outputs": [],
   "source": []
  }
 ],
 "metadata": {
  "kernelspec": {
   "display_name": "mongo-atlas",
   "language": "python",
   "name": "python3"
  },
  "language_info": {
   "codemirror_mode": {
    "name": "ipython",
    "version": 3
   },
   "file_extension": ".py",
   "mimetype": "text/x-python",
   "name": "python",
   "nbconvert_exporter": "python",
   "pygments_lexer": "ipython3",
   "version": "3.10.14"
  }
 },
 "nbformat": 4,
 "nbformat_minor": 2
}
