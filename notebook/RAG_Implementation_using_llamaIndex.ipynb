{
 "cells": [
  {
   "cell_type": "code",
   "execution_count": 1,
   "id": "3e99774c-1545-4554-9112-e11da8035b97",
   "metadata": {},
   "outputs": [],
   "source": [
    "import getpass, os, pymongo, pprint\n",
    "from llama_index.core import SimpleDirectoryReader, VectorStoreIndex, StorageContext\n",
    "from llama_index.core.settings import Settings\n",
    "from llama_index.core.retrievers import VectorIndexRetriever\n",
    "from llama_index.core.vector_stores import MetadataFilter, MetadataFilters, ExactMatchFilter, FilterOperator\n",
    "from llama_index.core.query_engine import RetrieverQueryEngine\n",
    "from llama_index.embeddings.openai import OpenAIEmbedding\n",
    "from llama_index.llms.openai import OpenAI\n",
    "from llama_index.vector_stores.mongodb import MongoDBAtlasVectorSearch"
   ]
  },
  {
   "cell_type": "code",
   "execution_count": 2,
   "id": "39c08736-8177-4288-b68b-0073bc9bd5df",
   "metadata": {},
   "outputs": [],
   "source": [
    "import yaml\n",
    "import pymongo\n",
    "import json\n",
    "from sentence_transformers import SentenceTransformer\n",
    "import numpy as np"
   ]
  },
  {
   "cell_type": "code",
   "execution_count": 3,
   "id": "298131b6-5879-4a76-89ef-6a228a49c0a9",
   "metadata": {},
   "outputs": [
    {
     "name": "stdout",
     "output_type": "stream",
     "text": [
      "env: OPENAI_API_KEY=\"sk-proj-VcTbrBz9RO6RP8znSxqZT3BlbkFJmx4Q3HCyxyduxKh1HPub\"\n"
     ]
    }
   ],
   "source": [
    "%env OPENAI_API_KEY=\"openai_key\""
   ]
  },
  {
   "cell_type": "code",
   "execution_count": 4,
   "id": "88cdc8bd-ce99-4237-87d7-3f28b63ca08b",
   "metadata": {},
   "outputs": [],
   "source": [
    "os.environ[\"OPENAI_API_KEY\"] = 'open_ai_key'"
   ]
  },
  {
   "cell_type": "code",
   "execution_count": 5,
   "id": "68615781-c512-4c4c-a70d-668cc71c6e0e",
   "metadata": {},
   "outputs": [],
   "source": [
    "# os.environ[\"OPENAI_API_KEY\"] = getpass.getpass(\"OpenAI API Key:\")\n",
    "# ATLAS_CONNECTION_STRING = getpass.getpass(\"MongoDB Atlas SRV Connection String:\")\n"
   ]
  },
  {
   "cell_type": "code",
   "execution_count": 6,
   "id": "89ea887a-930f-40cd-bb46-cec683e5884c",
   "metadata": {},
   "outputs": [],
   "source": [
    "with open('../config.yaml', 'r') as stream:\n",
    "    config = yaml.safe_load(stream)\n",
    "\n",
    "# Load the configuration from the config.yaml file\n",
    "mongo_uri = config['mongodb']['mongo_uri']\n",
    "db_name = config['mongodb']['llama_db_name']\n",
    "collection_name = config['mongodb']['llama_collection_name']"
   ]
  },
  {
   "cell_type": "code",
   "execution_count": 8,
   "id": "e47d44fb-a19c-4972-a026-d0eee83632d7",
   "metadata": {},
   "outputs": [],
   "source": [
    "Settings.llm = OpenAI()\n",
    "Settings.embed_model = OpenAIEmbedding(model=\"text-embedding-3-large\")\n",
    "Settings.chunk_size = 100\n",
    "Settings.chunk_overlap = 10"
   ]
  },
  {
   "cell_type": "code",
   "execution_count": 9,
   "id": "81ce2682-2e29-44d2-beb0-009a09f941e8",
   "metadata": {},
   "outputs": [
    {
     "ename": "ValueError",
     "evalue": "File ../data/mongodb_atlas_best_practices.pdf does not exist.",
     "output_type": "error",
     "traceback": [
      "\u001b[0;31m---------------------------------------------------------------------------\u001b[0m",
      "\u001b[0;31mValueError\u001b[0m                                Traceback (most recent call last)",
      "Cell \u001b[0;32mIn[9], line 1\u001b[0m\n\u001b[0;32m----> 1\u001b[0m sample_data \u001b[38;5;241m=\u001b[39m \u001b[43mSimpleDirectoryReader\u001b[49m\u001b[43m(\u001b[49m\u001b[43minput_files\u001b[49m\u001b[38;5;241;43m=\u001b[39;49m\u001b[43m[\u001b[49m\u001b[38;5;124;43m\"\u001b[39;49m\u001b[38;5;124;43m../data/mongodb_atlas_best_practices.pdf\u001b[39;49m\u001b[38;5;124;43m\"\u001b[39;49m\u001b[43m]\u001b[49m\u001b[43m)\u001b[49m\u001b[38;5;241m.\u001b[39mload_data()\n\u001b[1;32m      2\u001b[0m \u001b[38;5;66;03m# Print the first document\u001b[39;00m\n\u001b[1;32m      3\u001b[0m sample_data[\u001b[38;5;241m0\u001b[39m]\n",
      "File \u001b[0;32m~/mongo-atlas/lib/python3.10/site-packages/llama_index/core/readers/file/base.py:215\u001b[0m, in \u001b[0;36mSimpleDirectoryReader.__init__\u001b[0;34m(self, input_dir, input_files, exclude, exclude_hidden, errors, recursive, encoding, filename_as_id, required_exts, file_extractor, num_files_limit, file_metadata, raise_on_error, fs)\u001b[0m\n\u001b[1;32m    213\u001b[0m \u001b[38;5;28;01mfor\u001b[39;00m path \u001b[38;5;129;01min\u001b[39;00m input_files:\n\u001b[1;32m    214\u001b[0m     \u001b[38;5;28;01mif\u001b[39;00m \u001b[38;5;129;01mnot\u001b[39;00m \u001b[38;5;28mself\u001b[39m\u001b[38;5;241m.\u001b[39mfs\u001b[38;5;241m.\u001b[39misfile(path):\n\u001b[0;32m--> 215\u001b[0m         \u001b[38;5;28;01mraise\u001b[39;00m \u001b[38;5;167;01mValueError\u001b[39;00m(\u001b[38;5;124mf\u001b[39m\u001b[38;5;124m\"\u001b[39m\u001b[38;5;124mFile \u001b[39m\u001b[38;5;132;01m{\u001b[39;00mpath\u001b[38;5;132;01m}\u001b[39;00m\u001b[38;5;124m does not exist.\u001b[39m\u001b[38;5;124m\"\u001b[39m)\n\u001b[1;32m    216\u001b[0m     input_file \u001b[38;5;241m=\u001b[39m _Path(path)\n\u001b[1;32m    217\u001b[0m     \u001b[38;5;28mself\u001b[39m\u001b[38;5;241m.\u001b[39minput_files\u001b[38;5;241m.\u001b[39mappend(input_file)\n",
      "\u001b[0;31mValueError\u001b[0m: File ../data/mongodb_atlas_best_practices.pdf does not exist."
     ]
    }
   ],
   "source": [
    "sample_data = SimpleDirectoryReader(input_files=[\"../data/mongodb_atlas_best_practices.pdf\"]).load_data()\n",
    "# Print the first document\n",
    "sample_data[0]"
   ]
  },
  {
   "cell_type": "code",
   "execution_count": 16,
   "id": "90adea48-1dea-4d50-9af9-0ef52733a145",
   "metadata": {},
   "outputs": [],
   "source": [
    "# Connect to your Atlas cluster\n",
    "mongodb_client = pymongo.MongoClient(mongo_uri)\n",
    "\n",
    "# Instantiate the vector store\n",
    "atlas_vector_search = MongoDBAtlasVectorSearch(\n",
    "    mongodb_client,\n",
    "    db_name = \"llamaindex_db\",\n",
    "    collection_name = \"test\",\n",
    "    index_name = \"llama_vector_index\"\n",
    ")\n",
    "vector_store_context = StorageContext.from_defaults(vector_store=atlas_vector_search)"
   ]
  },
  {
   "cell_type": "code",
   "execution_count": 18,
   "id": "97a23be7-ce26-4c93-a413-d4920d7d0c3b",
   "metadata": {},
   "outputs": [
    {
     "data": {
      "application/vnd.jupyter.widget-view+json": {
       "model_id": "9fbddb1259e14597bbca90e0e12ccb53",
       "version_major": 2,
       "version_minor": 0
      },
      "text/plain": [
       "Parsing nodes:   0%|          | 0/21 [00:00<?, ?it/s]"
      ]
     },
     "metadata": {},
     "output_type": "display_data"
    },
    {
     "data": {
      "application/vnd.jupyter.widget-view+json": {
       "model_id": "804f4a5e59274df78afcfec88dd109b6",
       "version_major": 2,
       "version_minor": 0
      },
      "text/plain": [
       "Generating embeddings:   0%|          | 0/262 [00:00<?, ?it/s]"
      ]
     },
     "metadata": {},
     "output_type": "display_data"
    }
   ],
   "source": [
    "vector_store_index = VectorStoreIndex.from_documents(\n",
    "   sample_data, storage_context=vector_store_context, show_progress=True\n",
    ")"
   ]
  },
  {
   "cell_type": "code",
   "execution_count": 19,
   "id": "2f6266d5-b797-4d46-934d-56886b519fec",
   "metadata": {},
   "outputs": [
    {
     "name": "stdout",
     "output_type": "stream",
     "text": [
      "Node ID: 4935fc2e-eba3-4124-af8f-ce2f2f83f97a\n",
      "Text: MongoD B Atlas provides: •Security f eatures to protect access\n",
      "to your data •Built in replication for always-on availability ,\n",
      "tolerating complete data center failure •Backups and point in time\n",
      "recovery to protect against data corruption •Fine-grained monitoring\n",
      "to let you know when to scale.\n",
      "Score:  0.933\n",
      "\n",
      "Node ID: 0756f0f7-b022-44f8-b3fe-f5ddb217b152\n",
      "Text: Protect data in motion over the network and at rest in\n",
      "persistent storage To ensure a secure system right out of the b ox,\n",
      "authentication and I P Address whitelisting are automatically enabled.\n",
      "Review the security section of the MongoD B Atlas documentation to\n",
      "learn more ab out eac h of the security features discussed below .\n",
      "Score:  0.932\n",
      "\n",
      "Node ID: 595e8a42-3b21-4ed3-9b82-61a9c3227d01\n",
      "Text: MongoD B Atlas f eatures e xtensive capabilities to def end,\n",
      "detect, and control access to MongoD B, off ering among the most\n",
      "complete security controls of any modern database: •User Rights\n",
      "Management.User Rights Management. Control access to sensitive data\n",
      "using industry standard mec hanisms for authentication and\n",
      "authorization at the database ...\n",
      "Score:  0.930\n",
      "\n"
     ]
    }
   ],
   "source": [
    "retriever = vector_store_index.as_retriever(similarity_top_k=3)\n",
    "nodes = retriever.retrieve(\"MongoDB Atlas security\")\n",
    "\n",
    "for node in nodes:\n",
    "    print(node)"
   ]
  },
  {
   "cell_type": "markdown",
   "id": "441ace0a-21b6-4561-b2a4-2e3d09c2f956",
   "metadata": {},
   "source": [
    "### Basic RAG"
   ]
  },
  {
   "cell_type": "code",
   "execution_count": 20,
   "id": "9de728a4-ca96-4e92-8a33-2cb5a8ebb7fd",
   "metadata": {},
   "outputs": [
    {
     "name": "stdout",
     "output_type": "stream",
     "text": [
      "You can secure your MongoDB Atlas cluster by enabling authentication and IP Address whitelisting, maintaining separate cluster security configurations, creating different alert settings for different environments, deploying into different regions or cloud platforms, and ensuring that data volumes are always encrypted when deploying on AWS, Azure, and GCP.\n",
      "\n",
      "Source documents: \n",
      "[NodeWithScore(node=TextNode(id_='0756f0f7-b022-44f8-b3fe-f5ddb217b152', embedding=None, metadata={'page_label': '18', 'file_name': 'mongodb_atlas_best_practices.pdf', 'file_path': '../data/mongodb_atlas_best_practices.pdf', 'file_type': 'application/pdf', 'file_size': 512653, 'creation_date': '2024-05-22', 'last_modified_date': '2024-05-22'}, excluded_embed_metadata_keys=['file_name', 'file_type', 'file_size', 'creation_date', 'last_modified_date', 'last_accessed_date'], excluded_llm_metadata_keys=['file_name', 'file_type', 'file_size', 'creation_date', 'last_modified_date', 'last_accessed_date'], relationships={<NodeRelationship.SOURCE: '1'>: RelatedNodeInfo(node_id='7f9afc77-8e0e-4d07-93c5-acad3070162c', node_type=<ObjectType.DOCUMENT: '4'>, metadata={'page_label': '18', 'file_name': 'mongodb_atlas_best_practices.pdf', 'file_path': '../data/mongodb_atlas_best_practices.pdf', 'file_type': 'application/pdf', 'file_size': 512653, 'creation_date': '2024-05-22', 'last_modified_date': '2024-05-22'}, hash='04097a95b964ee6d15aa5b0a32580170a0a60cfec73d1ad8abd08006be8c5dbb'), <NodeRelationship.PREVIOUS: '2'>: RelatedNodeInfo(node_id='595e8a42-3b21-4ed3-9b82-61a9c3227d01', node_type=<ObjectType.TEXT: '1'>, metadata={'page_label': '18', 'file_name': 'mongodb_atlas_best_practices.pdf', 'file_path': '../data/mongodb_atlas_best_practices.pdf', 'file_type': 'application/pdf', 'file_size': 512653, 'creation_date': '2024-05-22', 'last_modified_date': '2024-05-22'}, hash='22f48885c83b3279e07e6e299e44dd8fea8fb499482e4c775cf1108471dcfa5f'), <NodeRelationship.NEXT: '3'>: RelatedNodeInfo(node_id='9d1dc0d8-0093-409b-a9f3-c135898a16d5', node_type=<ObjectType.TEXT: '1'>, metadata={}, hash='5393211ed6e59c3ee8e1b2fc9e2529f403ee7241ee477da7c20242440a203976')}, text='Protect data in motion over the network\\nand at rest in persistent storage\\nTo ensure a secure system right out of the b ox,\\nauthentication and I P Address whitelisting are\\nautomatically enabled.\\nReview the security section of the MongoD B Atlas\\ndocumentation to learn more ab out eac h of the security\\nfeatures discussed below .', start_char_idx=1852, end_char_idx=2179, text_template='{metadata_str}\\n\\n{content}', metadata_template='{key}: {value}', metadata_seperator='\\n'), score=0.9295878410339355),\n",
      " NodeWithScore(node=TextNode(id_='4935fc2e-eba3-4124-af8f-ce2f2f83f97a', embedding=None, metadata={'page_label': '3', 'file_name': 'mongodb_atlas_best_practices.pdf', 'file_path': '../data/mongodb_atlas_best_practices.pdf', 'file_type': 'application/pdf', 'file_size': 512653, 'creation_date': '2024-05-22', 'last_modified_date': '2024-05-22'}, excluded_embed_metadata_keys=['file_name', 'file_type', 'file_size', 'creation_date', 'last_modified_date', 'last_accessed_date'], excluded_llm_metadata_keys=['file_name', 'file_type', 'file_size', 'creation_date', 'last_modified_date', 'last_accessed_date'], relationships={<NodeRelationship.SOURCE: '1'>: RelatedNodeInfo(node_id='53446203-860c-4fbb-bcf1-1f1abc94470b', node_type=<ObjectType.DOCUMENT: '4'>, metadata={'page_label': '3', 'file_name': 'mongodb_atlas_best_practices.pdf', 'file_path': '../data/mongodb_atlas_best_practices.pdf', 'file_type': 'application/pdf', 'file_size': 512653, 'creation_date': '2024-05-22', 'last_modified_date': '2024-05-22'}, hash='b4d16fabc59cc6188120887ac7bb7e811175a7dcd89adb4a18c343a9eb06495e'), <NodeRelationship.PREVIOUS: '2'>: RelatedNodeInfo(node_id='b0a387ad-d560-40c6-914a-1ad44674dde4', node_type=<ObjectType.TEXT: '1'>, metadata={'page_label': '3', 'file_name': 'mongodb_atlas_best_practices.pdf', 'file_path': '../data/mongodb_atlas_best_practices.pdf', 'file_type': 'application/pdf', 'file_size': 512653, 'creation_date': '2024-05-22', 'last_modified_date': '2024-05-22'}, hash='d4b696fdffaf88e1deb728ef1e55299f45d10ee7f897b4d943515cfaa00bf35d'), <NodeRelationship.NEXT: '3'>: RelatedNodeInfo(node_id='80461940-2eb0-492f-8f29-eada4d4e618f', node_type=<ObjectType.TEXT: '1'>, metadata={}, hash='ce37b9f7382f86f97316d5dd346f645175e4a392afabb11d6a13c2dce81395e5')}, text='MongoD B\\nAtlas provides:\\n•Security f eatures to protect access to your data\\n•Built in replication for always-on availability , tolerating\\ncomplete data center failure\\n•Backups and point in time recovery to protect against\\ndata corruption\\n•Fine-grained monitoring to let you know when to scale.', start_char_idx=386, end_char_idx=679, text_template='{metadata_str}\\n\\n{content}', metadata_template='{key}: {value}', metadata_seperator='\\n'), score=0.9273478984832764),\n",
      " NodeWithScore(node=TextNode(id_='ce7dcd63-f095-4071-b64b-9f1b0edd7a0f', embedding=None, metadata={'page_label': '11', 'file_name': 'mongodb_atlas_best_practices.pdf', 'file_path': '../data/mongodb_atlas_best_practices.pdf', 'file_type': 'application/pdf', 'file_size': 512653, 'creation_date': '2024-05-22', 'last_modified_date': '2024-05-22'}, excluded_embed_metadata_keys=['file_name', 'file_type', 'file_size', 'creation_date', 'last_modified_date', 'last_accessed_date'], excluded_llm_metadata_keys=['file_name', 'file_type', 'file_size', 'creation_date', 'last_modified_date', 'last_accessed_date'], relationships={<NodeRelationship.SOURCE: '1'>: RelatedNodeInfo(node_id='87881f0e-e0ee-447c-8f20-f0eb3eb2b08b', node_type=<ObjectType.DOCUMENT: '4'>, metadata={'page_label': '11', 'file_name': 'mongodb_atlas_best_practices.pdf', 'file_path': '../data/mongodb_atlas_best_practices.pdf', 'file_type': 'application/pdf', 'file_size': 512653, 'creation_date': '2024-05-22', 'last_modified_date': '2024-05-22'}, hash='b44f9d8ead11d2a4e137531b74dad4ab39e5694957a8e932ee093df04dbf5fd9'), <NodeRelationship.PREVIOUS: '2'>: RelatedNodeInfo(node_id='80710417-4f5a-4bfc-90be-26fe5e2d0a94', node_type=<ObjectType.TEXT: '1'>, metadata={'page_label': '11', 'file_name': 'mongodb_atlas_best_practices.pdf', 'file_path': '../data/mongodb_atlas_best_practices.pdf', 'file_type': 'application/pdf', 'file_size': 512653, 'creation_date': '2024-05-22', 'last_modified_date': '2024-05-22'}, hash='45f48a84e78b02a1d23b15270c63779eadb2b18963c14a67f5c52901f0590fe4'), <NodeRelationship.NEXT: '3'>: RelatedNodeInfo(node_id='49b589fa-9a55-4fa1-8db1-e91fd1f3f01a', node_type=<ObjectType.TEXT: '1'>, metadata={}, hash='2b982087b4e8a9600ae02c1dc31be7e4ab9b10d27d923654bd3de8e3fd134fae')}, text='Eac h node must be configured\\nwith sufficient storage for the full data set, or for the subset\\nto be stored in a single shard. T he storage speed and size\\ncan be set when pic king the MongoD B Atlas instance\\nduring cluster creation or reconfiguration.\\nData volumes for customers deploying on A WS, Azure, and\\nGCP are always encrypted.', start_char_idx=299, end_char_idx=633, text_template='{metadata_str}\\n\\n{content}', metadata_template='{key}: {value}', metadata_seperator='\\n'), score=0.9255267381668091),\n",
      " NodeWithScore(node=TextNode(id_='5afa760f-e6f4-4a08-92b5-63a8c7c2e423', embedding=None, metadata={'page_label': '15', 'file_name': 'mongodb_atlas_best_practices.pdf', 'file_path': '../data/mongodb_atlas_best_practices.pdf', 'file_type': 'application/pdf', 'file_size': 512653, 'creation_date': '2024-05-22', 'last_modified_date': '2024-05-22'}, excluded_embed_metadata_keys=['file_name', 'file_type', 'file_size', 'creation_date', 'last_modified_date', 'last_accessed_date'], excluded_llm_metadata_keys=['file_name', 'file_type', 'file_size', 'creation_date', 'last_modified_date', 'last_accessed_date'], relationships={<NodeRelationship.SOURCE: '1'>: RelatedNodeInfo(node_id='f51111fa-ea3e-41fe-a149-79d996837dfd', node_type=<ObjectType.DOCUMENT: '4'>, metadata={'page_label': '15', 'file_name': 'mongodb_atlas_best_practices.pdf', 'file_path': '../data/mongodb_atlas_best_practices.pdf', 'file_type': 'application/pdf', 'file_size': 512653, 'creation_date': '2024-05-22', 'last_modified_date': '2024-05-22'}, hash='87196f5c1a073c412ecf00fc2ff2e005db0a40208e2b9003ca7c6772fac0f5f4'), <NodeRelationship.PREVIOUS: '2'>: RelatedNodeInfo(node_id='649842b9-a9d0-4b50-b8aa-c3d7aad392e3', node_type=<ObjectType.TEXT: '1'>, metadata={'page_label': '15', 'file_name': 'mongodb_atlas_best_practices.pdf', 'file_path': '../data/mongodb_atlas_best_practices.pdf', 'file_type': 'application/pdf', 'file_size': 512653, 'creation_date': '2024-05-22', 'last_modified_date': '2024-05-22'}, hash='5c618ffd1c851ce5c0e7267d401a5619caf64d7d818e71dbd2e621c4073be09c'), <NodeRelationship.NEXT: '3'>: RelatedNodeInfo(node_id='3b63a25f-d7ac-4026-ad3a-c134a52cb8ca', node_type=<ObjectType.TEXT: '1'>, metadata={}, hash='eae34398c9a6fe042cd99acee93469ed64849150df9d76b0ce859891ea5ffa68')}, text='•Maintain separate cluster security configurations.\\n•Create diff erent alert settings. F or example, configure\\nalerts for P roduction environments diff erently than\\nDevelopment environments.\\n•Deploy into diff erent regions or cloud platforms.\\nDeployments and Upgrades\\nAll the user needs to do in order for MongoD B Atlas to\\nautomatically deploy the cluster is to select a handful', start_char_idx=1006, end_char_idx=1385, text_template='{metadata_str}\\n\\n{content}', metadata_template='{key}: {value}', metadata_seperator='\\n'), score=0.9251891374588013),\n",
      " NodeWithScore(node=TextNode(id_='d392d332-b94a-4549-8f8b-72aefbc327dc', embedding=None, metadata={'page_label': '13', 'file_name': 'mongodb_atlas_best_practices.pdf', 'file_path': '../data/mongodb_atlas_best_practices.pdf', 'file_type': 'application/pdf', 'file_size': 512653, 'creation_date': '2024-05-22', 'last_modified_date': '2024-05-22'}, excluded_embed_metadata_keys=['file_name', 'file_type', 'file_size', 'creation_date', 'last_modified_date', 'last_accessed_date'], excluded_llm_metadata_keys=['file_name', 'file_type', 'file_size', 'creation_date', 'last_modified_date', 'last_accessed_date'], relationships={<NodeRelationship.SOURCE: '1'>: RelatedNodeInfo(node_id='72498ac3-bb46-479f-8d52-816038f071d5', node_type=<ObjectType.DOCUMENT: '4'>, metadata={'page_label': '13', 'file_name': 'mongodb_atlas_best_practices.pdf', 'file_path': '../data/mongodb_atlas_best_practices.pdf', 'file_type': 'application/pdf', 'file_size': 512653, 'creation_date': '2024-05-22', 'last_modified_date': '2024-05-22'}, hash='5325dbefd39b8dd3a26447ad834176c59b19e0da17cf1dd7a8c6fb6860f9bc77'), <NodeRelationship.PREVIOUS: '2'>: RelatedNodeInfo(node_id='cc8615a6-b2c6-44a4-956c-f2f3b3cfc1b3', node_type=<ObjectType.TEXT: '1'>, metadata={'page_label': '13', 'file_name': 'mongodb_atlas_best_practices.pdf', 'file_path': '../data/mongodb_atlas_best_practices.pdf', 'file_type': 'application/pdf', 'file_size': 512653, 'creation_date': '2024-05-22', 'last_modified_date': '2024-05-22'}, hash='a240c9b3a3df547e695a7c2dff72b1506ee84219c5f2e6020c239b82f989d3ed'), <NodeRelationship.NEXT: '3'>: RelatedNodeInfo(node_id='7e0daffb-b33d-4c8f-a64a-222087b5252f', node_type=<ObjectType.TEXT: '1'>, metadata={}, hash='86b4419256e9d788383ea6a8cd30d4f37461f9f23e41c1e33ca9cd268dc12884')}, text='You can set up global clusters — available on Amazon W eb\\nServices, Microsoft Azure, and Google Cloud Platform —\\nwith just a f ew clic ks in the MongoD B Atlas U I. MongoD B\\nAtlas takes care of the deployment and management of\\ninfrastructure and database resources required to ensure\\nthat data is written to and read from diff erent regions.', start_char_idx=498, end_char_idx=839, text_template='{metadata_str}\\n\\n{content}', metadata_template='{key}: {value}', metadata_seperator='\\n'), score=0.9246411919593811)]\n"
     ]
    }
   ],
   "source": [
    "# Instantiate Atlas Vector Search as a retriever\n",
    "vector_store_retriever = VectorIndexRetriever(index=vector_store_index, similarity_top_k=5)\n",
    "\n",
    "# Pass the retriever into the query engine\n",
    "query_engine = RetrieverQueryEngine(retriever=vector_store_retriever)\n",
    "\n",
    "# Prompt the LLM\n",
    "response = query_engine.query('How can I secure my MongoDB Atlas cluster?')\n",
    "\n",
    "print(response)\n",
    "print(\"\\nSource documents: \")\n",
    "pprint.pprint(response.source_nodes)"
   ]
  },
  {
   "cell_type": "markdown",
   "id": "3b60b3e5-d604-4f0f-8813-27fd5d0a21a2",
   "metadata": {},
   "source": [
    "### RAG with Filtering"
   ]
  },
  {
   "cell_type": "code",
   "execution_count": 21,
   "id": "71e367b7-d626-45c7-9788-445995acd7e2",
   "metadata": {},
   "outputs": [
    {
     "name": "stdout",
     "output_type": "stream",
     "text": [
      "You can secure your MongoDB Atlas cluster by following best practices such as enabling authentication, configuring network access controls, enabling encryption at rest and in transit, implementing role-based access control, regularly updating and patching your MongoDB version, and monitoring your cluster for any suspicious activity.\n",
      "\n",
      "Source documents: \n",
      "[NodeWithScore(node=TextNode(id_='a2e9cd35-e1a6-4bfd-968b-3766454822ae', embedding=None, metadata={'page_label': '17', 'file_name': 'mongodb_atlas_best_practices.pdf', 'file_path': '../data/mongodb_atlas_best_practices.pdf', 'file_type': 'application/pdf', 'file_size': 512653, 'creation_date': '2024-05-22', 'last_modified_date': '2024-05-22'}, excluded_embed_metadata_keys=['file_name', 'file_type', 'file_size', 'creation_date', 'last_modified_date', 'last_accessed_date'], excluded_llm_metadata_keys=['file_name', 'file_type', 'file_size', 'creation_date', 'last_modified_date', 'last_accessed_date'], relationships={<NodeRelationship.SOURCE: '1'>: RelatedNodeInfo(node_id='b218d03f-fd92-4f67-a85e-4dc6e73fa504', node_type=<ObjectType.DOCUMENT: '4'>, metadata={'page_label': '17', 'file_name': 'mongodb_atlas_best_practices.pdf', 'file_path': '../data/mongodb_atlas_best_practices.pdf', 'file_type': 'application/pdf', 'file_size': 512653, 'creation_date': '2024-05-22', 'last_modified_date': '2024-05-22'}, hash='0babebab0592d73127bac93c22069cb904c5b852a16f2c7300386ccc31ca72fc'), <NodeRelationship.PREVIOUS: '2'>: RelatedNodeInfo(node_id='a19b5bd0-1463-402c-b551-3324a4aa9613', node_type=<ObjectType.TEXT: '1'>, metadata={'page_label': '17', 'file_name': 'mongodb_atlas_best_practices.pdf', 'file_path': '../data/mongodb_atlas_best_practices.pdf', 'file_type': 'application/pdf', 'file_size': 512653, 'creation_date': '2024-05-22', 'last_modified_date': '2024-05-22'}, hash='6a860aad6aa7fc6fba731831475768010f6cab8f0de4d0662fe803766f2672a8'), <NodeRelationship.NEXT: '3'>: RelatedNodeInfo(node_id='3afc8afc-f26a-4526-a76e-4996cd1b9c98', node_type=<ObjectType.TEXT: '1'>, metadata={}, hash='14d5688e6ca72e116eceee347e809969d788d3a8eea0ad900727c31d72778f6e')}, text='If the\\nMongoD B cluster e xperiences a failure, the most recentbackup is only moments behind, minimizing e xposure to\\ndata loss.\\nIn additional, MongoD B Atlas includes queryable bac kups,\\nwhich allows you to perform queries against e xisting\\nsnapshots to more easily restore data at the document/\\nobject level. Queryable bac kups allow you to accomplish\\nthe', start_char_idx=1987, end_char_idx=2344, text_template='{metadata_str}\\n\\n{content}', metadata_template='{key}: {value}', metadata_seperator='\\n'), score=0.9113597273826599),\n",
      " NodeWithScore(node=TextNode(id_='a19b5bd0-1463-402c-b551-3324a4aa9613', embedding=None, metadata={'page_label': '17', 'file_name': 'mongodb_atlas_best_practices.pdf', 'file_path': '../data/mongodb_atlas_best_practices.pdf', 'file_type': 'application/pdf', 'file_size': 512653, 'creation_date': '2024-05-22', 'last_modified_date': '2024-05-22'}, excluded_embed_metadata_keys=['file_name', 'file_type', 'file_size', 'creation_date', 'last_modified_date', 'last_accessed_date'], excluded_llm_metadata_keys=['file_name', 'file_type', 'file_size', 'creation_date', 'last_modified_date', 'last_accessed_date'], relationships={<NodeRelationship.SOURCE: '1'>: RelatedNodeInfo(node_id='b218d03f-fd92-4f67-a85e-4dc6e73fa504', node_type=<ObjectType.DOCUMENT: '4'>, metadata={'page_label': '17', 'file_name': 'mongodb_atlas_best_practices.pdf', 'file_path': '../data/mongodb_atlas_best_practices.pdf', 'file_type': 'application/pdf', 'file_size': 512653, 'creation_date': '2024-05-22', 'last_modified_date': '2024-05-22'}, hash='0babebab0592d73127bac93c22069cb904c5b852a16f2c7300386ccc31ca72fc'), <NodeRelationship.PREVIOUS: '2'>: RelatedNodeInfo(node_id='ffdd69be-b013-4b9f-a08e-afd9132f7835', node_type=<ObjectType.TEXT: '1'>, metadata={'page_label': '17', 'file_name': 'mongodb_atlas_best_practices.pdf', 'file_path': '../data/mongodb_atlas_best_practices.pdf', 'file_type': 'application/pdf', 'file_size': 512653, 'creation_date': '2024-05-22', 'last_modified_date': '2024-05-22'}, hash='a153d5471edbe786eb04d2260be0d615034ffed9a5e4ba48f1bbd00fdbe02e89'), <NodeRelationship.NEXT: '3'>: RelatedNodeInfo(node_id='a2e9cd35-e1a6-4bfd-968b-3766454822ae', node_type=<ObjectType.TEXT: '1'>, metadata={}, hash='5b44dc66792cc24bda891143eaa71beb0a691acb685c6684662ace3f013d4f94')}, text='T aking regular bac kups off ers\\nother advantages, as well. T he bac kups can be used to\\nseed new environments for development, staging, or QA\\nwithout impacting production systems.\\nMongoD B Atlas bac kups are maintained continuously , just\\na few seconds behind the operational system.', start_char_idx=1702, end_char_idx=1986, text_template='{metadata_str}\\n\\n{content}', metadata_template='{key}: {value}', metadata_seperator='\\n'), score=0.9083113670349121),\n",
      " NodeWithScore(node=TextNode(id_='6db1b17e-ecbd-4d23-a317-5aaac05d9a94', embedding=None, metadata={'page_label': '17', 'file_name': 'mongodb_atlas_best_practices.pdf', 'file_path': '../data/mongodb_atlas_best_practices.pdf', 'file_type': 'application/pdf', 'file_size': 512653, 'creation_date': '2024-05-22', 'last_modified_date': '2024-05-22'}, excluded_embed_metadata_keys=['file_name', 'file_type', 'file_size', 'creation_date', 'last_modified_date', 'last_accessed_date'], excluded_llm_metadata_keys=['file_name', 'file_type', 'file_size', 'creation_date', 'last_modified_date', 'last_accessed_date'], relationships={<NodeRelationship.SOURCE: '1'>: RelatedNodeInfo(node_id='b218d03f-fd92-4f67-a85e-4dc6e73fa504', node_type=<ObjectType.DOCUMENT: '4'>, metadata={'page_label': '17', 'file_name': 'mongodb_atlas_best_practices.pdf', 'file_path': '../data/mongodb_atlas_best_practices.pdf', 'file_type': 'application/pdf', 'file_size': 512653, 'creation_date': '2024-05-22', 'last_modified_date': '2024-05-22'}, hash='0babebab0592d73127bac93c22069cb904c5b852a16f2c7300386ccc31ca72fc'), <NodeRelationship.PREVIOUS: '2'>: RelatedNodeInfo(node_id='a5a8c9d7-5158-4f3b-bcbe-3c756295b713', node_type=<ObjectType.TEXT: '1'>, metadata={'page_label': '17', 'file_name': 'mongodb_atlas_best_practices.pdf', 'file_path': '../data/mongodb_atlas_best_practices.pdf', 'file_type': 'application/pdf', 'file_size': 512653, 'creation_date': '2024-05-22', 'last_modified_date': '2024-05-22'}, hash='81a4dc520d2c178b8230a3e4e979fb8d531fa842ffaacc0c0d2b68b9a556d47a'), <NodeRelationship.NEXT: '3'>: RelatedNodeInfo(node_id='b9181be5-ee4f-4f8a-9f1c-2735188f1bf8', node_type=<ObjectType.TEXT: '1'>, metadata={}, hash='28a3f96ab69c6a9da4c0989f9b898d6e0e617ff9f8485b60ae17a2505f17e0c9')}, text='If in the course of a deployment it is determined that a new\\nshard key should be used, it will be necessary to reload the\\ndata with a new shard key because designation and values\\nof the shard keys are immutable.', start_char_idx=551, end_char_idx=762, text_template='{metadata_str}\\n\\n{content}', metadata_template='{key}: {value}', metadata_seperator='\\n'), score=0.9045315980911255),\n",
      " NodeWithScore(node=TextNode(id_='4fba8f01-b6e7-4ed3-9a8b-11942ecaa949', embedding=None, metadata={'page_label': '17', 'file_name': 'mongodb_atlas_best_practices.pdf', 'file_path': '../data/mongodb_atlas_best_practices.pdf', 'file_type': 'application/pdf', 'file_size': 512653, 'creation_date': '2024-05-22', 'last_modified_date': '2024-05-22'}, excluded_embed_metadata_keys=['file_name', 'file_type', 'file_size', 'creation_date', 'last_modified_date', 'last_accessed_date'], excluded_llm_metadata_keys=['file_name', 'file_type', 'file_size', 'creation_date', 'last_modified_date', 'last_accessed_date'], relationships={<NodeRelationship.SOURCE: '1'>: RelatedNodeInfo(node_id='b218d03f-fd92-4f67-a85e-4dc6e73fa504', node_type=<ObjectType.DOCUMENT: '4'>, metadata={'page_label': '17', 'file_name': 'mongodb_atlas_best_practices.pdf', 'file_path': '../data/mongodb_atlas_best_practices.pdf', 'file_type': 'application/pdf', 'file_size': 512653, 'creation_date': '2024-05-22', 'last_modified_date': '2024-05-22'}, hash='0babebab0592d73127bac93c22069cb904c5b852a16f2c7300386ccc31ca72fc'), <NodeRelationship.PREVIOUS: '2'>: RelatedNodeInfo(node_id='51aa8840-32f1-4a58-9884-9387d3f74ec2', node_type=<ObjectType.TEXT: '1'>, metadata={'page_label': '17', 'file_name': 'mongodb_atlas_best_practices.pdf', 'file_path': '../data/mongodb_atlas_best_practices.pdf', 'file_type': 'application/pdf', 'file_size': 512653, 'creation_date': '2024-05-22', 'last_modified_date': '2024-05-22'}, hash='ed50eac29756940c79d2aba864f1e67457a8a15fc70ccd378b59b105c8553a61')}, text='Integrating MongoD B with External\\nMonitoring S olutions\\nThe MongoD B Atlas AP I provides integration with e xternal\\nmanagement frameworks through programmatic access to\\nautomation f eatures and alerts.\\nAPM Integration\\nMany operations teams use Application P erformance\\nMonitoring (AP M) platforms to gain global oversight of\\n15', start_char_idx=3387, end_char_idx=3715, text_template='{metadata_str}\\n\\n{content}', metadata_template='{key}: {value}', metadata_seperator='\\n'), score=0.9042108058929443),\n",
      " NodeWithScore(node=TextNode(id_='bf9b6d84-4f90-44e0-87bd-23b2cd7f4c75', embedding=None, metadata={'page_label': '17', 'file_name': 'mongodb_atlas_best_practices.pdf', 'file_path': '../data/mongodb_atlas_best_practices.pdf', 'file_type': 'application/pdf', 'file_size': 512653, 'creation_date': '2024-05-22', 'last_modified_date': '2024-05-22'}, excluded_embed_metadata_keys=['file_name', 'file_type', 'file_size', 'creation_date', 'last_modified_date', 'last_accessed_date'], excluded_llm_metadata_keys=['file_name', 'file_type', 'file_size', 'creation_date', 'last_modified_date', 'last_accessed_date'], relationships={<NodeRelationship.SOURCE: '1'>: RelatedNodeInfo(node_id='b218d03f-fd92-4f67-a85e-4dc6e73fa504', node_type=<ObjectType.DOCUMENT: '4'>, metadata={'page_label': '17', 'file_name': 'mongodb_atlas_best_practices.pdf', 'file_path': '../data/mongodb_atlas_best_practices.pdf', 'file_type': 'application/pdf', 'file_size': 512653, 'creation_date': '2024-05-22', 'last_modified_date': '2024-05-22'}, hash='0babebab0592d73127bac93c22069cb904c5b852a16f2c7300386ccc31ca72fc'), <NodeRelationship.PREVIOUS: '2'>: RelatedNodeInfo(node_id='b9181be5-ee4f-4f8a-9f1c-2735188f1bf8', node_type=<ObjectType.TEXT: '1'>, metadata={'page_label': '17', 'file_name': 'mongodb_atlas_best_practices.pdf', 'file_path': '../data/mongodb_atlas_best_practices.pdf', 'file_type': 'application/pdf', 'file_size': 512653, 'creation_date': '2024-05-22', 'last_modified_date': '2024-05-22'}, hash='fe6a7d91fbdea9554ac937937599fe0bbebcf1f828dc6f9d6c55e9fd5240cdd3'), <NodeRelationship.NEXT: '3'>: RelatedNodeInfo(node_id='ffdd69be-b013-4b9f-a08e-afd9132f7835', node_type=<ObjectType.TEXT: '1'>, metadata={}, hash='2188e6167393515cdde64f3ccbe29466086b6e5bfa129e5ce9a2843b70dbfbcc')}, text='A small amount of delay is normal,\\nbut as replication lag grows, significant issues may arise.\\nIf this is observed then replication throughput can be\\nincreased by moving to larger MongoD B Atlas instances or\\nadding shards.', start_char_idx=1076, end_char_idx=1298, text_template='{metadata_str}\\n\\n{content}', metadata_template='{key}: {value}', metadata_seperator='\\n'), score=0.903559684753418)]\n"
     ]
    }
   ],
   "source": [
    "# Specify metadata filters\n",
    "metadata_filters = MetadataFilters(\n",
    "   filters=[ExactMatchFilter(key=\"metadata.page_label\", value=\"17\")]\n",
    ")\n",
    "\n",
    "# Instantiate Atlas Vector Search as a retriever\n",
    "vector_store_retriever = VectorIndexRetriever(index=vector_store_index, filters=metadata_filters, similarity_top_k=5)\n",
    "\n",
    "# Pass the retriever into the query engine\n",
    "query_engine = RetrieverQueryEngine(retriever=vector_store_retriever)\n",
    "\n",
    "# Prompt the LLM\n",
    "response = query_engine.query('How can I secure my MongoDB Atlas cluster?')\n",
    "\n",
    "print(response)\n",
    "print(\"\\nSource documents: \")\n",
    "pprint.pprint(response.source_nodes)"
   ]
  },
  {
   "cell_type": "code",
   "execution_count": null,
   "id": "8c753ba3-7552-4454-89ea-c4596da8595e",
   "metadata": {},
   "outputs": [],
   "source": []
  },
  {
   "cell_type": "code",
   "execution_count": null,
   "id": "8b9d2512-78b8-4823-8595-21eed210db62",
   "metadata": {},
   "outputs": [],
   "source": []
  },
  {
   "cell_type": "code",
   "execution_count": null,
   "id": "bd5ed161-b05a-4fc5-9652-d9df679cff5b",
   "metadata": {},
   "outputs": [],
   "source": []
  },
  {
   "cell_type": "code",
   "execution_count": null,
   "id": "116c434b-4d5e-4e1e-be02-f9e2ab0f8e1c",
   "metadata": {},
   "outputs": [],
   "source": []
  },
  {
   "cell_type": "code",
   "execution_count": null,
   "id": "5b820c94-e5fa-487c-ba33-76f9e3a8a64a",
   "metadata": {},
   "outputs": [],
   "source": []
  }
 ],
 "metadata": {
  "kernelspec": {
   "display_name": "Python 3 (ipykernel)",
   "language": "python",
   "name": "python3"
  },
  "language_info": {
   "codemirror_mode": {
    "name": "ipython",
    "version": 3
   },
   "file_extension": ".py",
   "mimetype": "text/x-python",
   "name": "python",
   "nbconvert_exporter": "python",
   "pygments_lexer": "ipython3",
   "version": "3.10.14"
  }
 },
 "nbformat": 4,
 "nbformat_minor": 5
}
