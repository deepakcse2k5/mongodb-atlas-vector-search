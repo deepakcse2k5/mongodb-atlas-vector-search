{
 "cells": [
  {
   "cell_type": "code",
   "execution_count": 1,
   "metadata": {},
   "outputs": [],
   "source": [
    "from datetime import datetime\n",
    "from pprint import pprint\n",
    "import sys\n",
    "sys.path.append('/Users/deemish2/cisco/mongodb-vector-search')\n",
    "\n",
    "\n",
    "import bson\n",
    "from pymongo import MongoClient\n",
    "from util import config\n"
   ]
  },
  {
   "cell_type": "code",
   "execution_count": 2,
   "metadata": {},
   "outputs": [],
   "source": [
    "# Connect to MongoDB Atlas\n",
    "client = MongoClient(config.MONGO_URI)\n",
    "db = config.DB_NAME\n",
    "collection = config.COLLECTION_NAME"
   ]
  },
  {
   "cell_type": "code",
   "execution_count": 3,
   "metadata": {},
   "outputs": [],
   "source": [
    "def print_title(title):\n",
    "    \"\"\"\n",
    "    Utility function to print a title with an underline.\n",
    "    \"\"\"\n",
    "    print()  # Print a blank line\n",
    "    print(title)\n",
    "    print('=' * len(title))"
   ]
  },
  {
   "cell_type": "code",
   "execution_count": 4,
   "metadata": {},
   "outputs": [
    {
     "name": "stdout",
     "output_type": "stream",
     "text": [
      "?appName=Cluster0\n",
      "_filesystem:?appName=Cluster0\n",
      "gettingStarted\n",
      "hdfc\n",
      "movies\n",
      "sample_mflix\n",
      "admin\n",
      "local\n"
     ]
    }
   ],
   "source": [
    "for db_info in client.list_database_names():\n",
    "   print(db_info)"
   ]
  },
  {
   "cell_type": "code",
   "execution_count": 19,
   "metadata": {},
   "outputs": [
    {
     "name": "stdout",
     "output_type": "stream",
     "text": [
      "\n",
      "Collections in 'sample_mflix'\n",
      "=============================\n",
      "theaters\n",
      "users\n",
      "movies\n",
      "comments\n",
      "embedded_movies\n",
      "sessions\n"
     ]
    }
   ],
   "source": [
    "db = client.sample_mflix\n",
    "print_title(\"Collections in 'sample_mflix'\")\n",
    "# List all the collections in 'sample_mflix':\n",
    "collections = db.list_collection_names()\n",
    "for collection in collections:\n",
    "   print(collection)"
   ]
  },
  {
   "cell_type": "code",
   "execution_count": 20,
   "metadata": {},
   "outputs": [
    {
     "name": "stdout",
     "output_type": "stream",
     "text": [
      "{'_id': ObjectId('573a1395f29313caabce1f52'),\n",
      " 'awards': {'nominations': 1, 'text': '1 nomination.', 'wins': 0},\n",
      " 'cast': ['Frank Sinatra', 'Dean Martin', 'Anita Ekberg', 'Ursula Andress'],\n",
      " 'countries': ['USA'],\n",
      " 'directors': ['Robert Aldrich'],\n",
      " 'fullplot': 'Sharpshooters Zack Thomas and Joe Jarrett are in a Texan '\n",
      "             \"stage-coach and manage to fight off Matson's robber gang, so \"\n",
      "             'afterward they can fight over the $100,000 cash carried by a '\n",
      "             'railroad official. Both make it to Galveston, where each, '\n",
      "             'including vexed Matson, meets up with respective accomplices in '\n",
      "             'various dirty schemes. The money keeps changing hands and the '\n",
      "             'scene shifts to a river boat, which should multiply the winnings '\n",
      "             'as a casino, but the crooks and bullets follow.',\n",
      " 'genres': ['Western', 'Comedy'],\n",
      " 'imdb': {'id': 57071, 'rating': 5.6, 'votes': 2065},\n",
      " 'languages': ['English'],\n",
      " 'lastupdated': '2015-09-02 00:05:26.460000000',\n",
      " 'num_mflix_comments': 0,\n",
      " 'plot': 'Frank Sinatra plays a tough guy who hooks up with fellow rat packer '\n",
      "         'Dean Martin to open a casino in this western.',\n",
      " 'poster': 'https://m.media-amazon.com/images/M/MV5BMmY1YmIwMGMtMDY3NS00Yjc5LWE4YmUtMWUzZThmNjE4ODg3L2ltYWdlL2ltYWdlXkEyXkFqcGdeQXVyNjc1NTYyMjg@._V1_SY1000_SX677_AL_.jpg',\n",
      " 'rated': 'APPROVED',\n",
      " 'released': datetime.datetime(1963, 12, 25, 0, 0),\n",
      " 'runtime': 124,\n",
      " 'title': '4 for Texas',\n",
      " 'tomatoes': {'critic': {'meter': 11, 'numReviews': 9, 'rating': 4.1},\n",
      "              'dvd': datetime.datetime(2002, 1, 8, 0, 0),\n",
      "              'fresh': 1,\n",
      "              'lastUpdated': datetime.datetime(2015, 9, 13, 18, 0, 5),\n",
      "              'production': 'Warner Bros. Pictures',\n",
      "              'rotten': 8,\n",
      "              'viewer': {'meter': 41, 'numReviews': 3066, 'rating': 2.9}},\n",
      " 'type': 'movie',\n",
      " 'writers': ['Teddi Sherman', 'Robert Aldrich'],\n",
      " 'year': 1963}\n"
     ]
    }
   ],
   "source": [
    "# Get a reference to the 'movies' collection:\n",
    "movies = db['movies']\n",
    "\n",
    "# Get the document with the title 'Blacksmith Scene':\n",
    "# print_title(\"'4 for Texas' document\")\n",
    "pprint(movies.find_one({'title': '4 for Texas'}))"
   ]
  },
  {
   "cell_type": "code",
   "execution_count": 21,
   "metadata": {},
   "outputs": [
    {
     "name": "stdout",
     "output_type": "stream",
     "text": [
      "\n",
      "Insert a document for 'Parasite'\n",
      "================================\n"
     ]
    }
   ],
   "source": [
    "print_title(\"Insert a document for 'Parasite'\")\n",
    "\n",
    "# Insert a document for the movie 'Parasite':\n",
    "insert_result = movies.insert_one({\n",
    "      \"title\": \"Parasite\",\n",
    "      \"year\": 2020,\n",
    "      \"plot\": \"A poor family, the Kims, con their way into becoming the servants of a rich family, the Parks. \"\n",
    "      \"But their easy life gets complicated when their deception is threatened with exposure.\",\n",
    "      \"released\": datetime(2020, 2, 7, 0, 0, 0),\n",
    "   })\n",
    "\n",
    "\n"
   ]
  },
  {
   "cell_type": "code",
   "execution_count": 22,
   "metadata": {},
   "outputs": [
    {
     "name": "stdout",
     "output_type": "stream",
     "text": [
      "_id of inserted document: 66436eee3379168437929ec1\n",
      "\n",
      "Look up the inserted document\n",
      "=============================\n",
      "{'_id': ObjectId('66436eee3379168437929ec1'), 'title': 'Parasite', 'year': 2020, 'plot': 'A poor family, the Kims, con their way into becoming the servants of a rich family, the Parks. But their easy life gets complicated when their deception is threatened with exposure.', 'released': datetime.datetime(2020, 2, 7, 0, 0)}\n",
      "\n",
      "Look up all documents with the title 'Parasite'\n",
      "===============================================\n"
     ]
    }
   ],
   "source": [
    "# Save the inserted_id of the document you just created:\n",
    "parasite_id = insert_result.inserted_id\n",
    "print(\"_id of inserted document: {parasite_id}\".format(parasite_id=parasite_id))\n",
    "\n",
    "print_title(\"Look up the inserted document\")\n",
    "\n",
    "# Look up the document you just created in the collection:\n",
    "print(movies.find_one({'_id': bson.ObjectId(parasite_id)}))\n",
    "\n",
    "print_title(\"Look up all documents with the title 'Parasite'\")\n",
    "\n"
   ]
  },
  {
   "cell_type": "code",
   "execution_count": 23,
   "metadata": {},
   "outputs": [
    {
     "name": "stdout",
     "output_type": "stream",
     "text": [
      "{'_id': ObjectId('66436c14b55c989eb87667dc'),\n",
      " 'plot': 'A poor family, the Kims, con their way into becoming the servants of '\n",
      "         'a rich family, the Parks. But their easy life gets complicated when '\n",
      "         'their deception is threatened with exposure.',\n",
      " 'released': datetime.datetime(2020, 2, 7, 0, 0),\n",
      " 'title': 'Parasite',\n",
      " 'year': 2020}\n",
      "{'_id': ObjectId('66436c3c5e2ec15f80c736e5'),\n",
      " 'plot': 'A poor family, the Kims, con their way into becoming the servants of '\n",
      "         'a rich family, the Parks. But their easy life gets complicated when '\n",
      "         'their deception is threatened with exposure.',\n",
      " 'released': datetime.datetime(2020, 2, 7, 0, 0),\n",
      " 'title': 'Parasite',\n",
      " 'year': 2020}\n",
      "{'_id': ObjectId('66436d4df80665644f6bfd73'),\n",
      " 'plot': 'A poor family, the Kims, con their way into becoming the servants of '\n",
      "         'a rich family, the Parks. But their easy life gets complicated when '\n",
      "         'their deception is threatened with exposure.',\n",
      " 'released': datetime.datetime(2020, 2, 7, 0, 0),\n",
      " 'title': 'Parasite',\n",
      " 'year': 2020}\n",
      "{'_id': ObjectId('66436e01092a2175c6cfea56'),\n",
      " 'plot': 'A poor family, the Kims, con their way into becoming the servants of '\n",
      "         'a rich family, the Parks. But their easy life gets complicated when '\n",
      "         'their deception is threatened with exposure.',\n",
      " 'released': datetime.datetime(2020, 2, 7, 0, 0),\n",
      " 'title': 'Parasite',\n",
      " 'year': 2020}\n",
      "{'_id': ObjectId('66436e2c0a30589c8d51bdb4'),\n",
      " 'plot': 'A poor family, the Kims, con their way into becoming the servants of '\n",
      "         'a rich family, the Parks. But their easy life gets complicated when '\n",
      "         'their deception is threatened with exposure.',\n",
      " 'released': datetime.datetime(2020, 2, 7, 0, 0),\n",
      " 'title': 'Parasite',\n",
      " 'year': 2020}\n",
      "{'_id': ObjectId('66436eee3379168437929ec1'),\n",
      " 'plot': 'A poor family, the Kims, con their way into becoming the servants of '\n",
      "         'a rich family, the Parks. But their easy life gets complicated when '\n",
      "         'their deception is threatened with exposure.',\n",
      " 'released': datetime.datetime(2020, 2, 7, 0, 0),\n",
      " 'title': 'Parasite',\n",
      " 'year': 2020}\n"
     ]
    }
   ],
   "source": [
    "# Look up the documents you've created in the collection:\n",
    "for doc in movies.find({\"title\": \"Parasite\"}):\n",
    "   pprint(doc)\n",
    "\n"
   ]
  },
  {
   "cell_type": "code",
   "execution_count": 24,
   "metadata": {},
   "outputs": [
    {
     "name": "stdout",
     "output_type": "stream",
     "text": [
      "\n",
      "Update 'Parasite' year to 2019\n",
      "==============================\n",
      "{'_id': ObjectId('66436eee3379168437929ec1'),\n",
      " 'plot': 'A poor family, the Kims, con their way into becoming the servants of '\n",
      "         'a rich family, the Parks. But their easy life gets complicated when '\n",
      "         'their deception is threatened with exposure.',\n",
      " 'released': datetime.datetime(2020, 2, 7, 0, 0),\n",
      " 'title': 'Parasite',\n",
      " 'year': 2019}\n"
     ]
    }
   ],
   "source": [
    "print_title(\"Update 'Parasite' year to 2019\")\n",
    "\n",
    "# Update the document with the correct year:\n",
    "update_result = movies.update_one({ '_id': parasite_id }, {\n",
    "   '$set': {\"year\": 2019}\n",
    "})\n",
    "\n",
    "# Print out the updated record to make sure it's correct:\n",
    "pprint(movies.find_one({'_id': bson.ObjectId(parasite_id)}))"
   ]
  },
  {
   "cell_type": "code",
   "execution_count": 25,
   "metadata": {},
   "outputs": [
    {
     "name": "stdout",
     "output_type": "stream",
     "text": [
      "\n",
      "Update *all* documents with the title 'Parasite' to 2019\n",
      "========================================================\n",
      "Documents updated: 5\n",
      "\n",
      "Delete all documents with the title 'Parasite'\n",
      "==============================================\n"
     ]
    }
   ],
   "source": [
    "print_title(\"Update *all* documents with the title 'Parasite' to 2019\")\n",
    "\n",
    "# Update *all* the Parasite movie docs to the correct year:\n",
    "update_result = movies.update_many({\"title\": \"Parasite\"}, {\"$set\": {\"year\": 2019}})\n",
    "print(f\"Documents updated: {update_result.modified_count}\")\n",
    "\n",
    "print_title(\"Delete all documents with the title 'Parasite'\")\n",
    "\n",
    "delete_result = movies.delete_many(\n",
    "   {\"title\": \"Parasite\",}\n",
    ")"
   ]
  },
  {
   "cell_type": "code",
   "execution_count": null,
   "metadata": {},
   "outputs": [],
   "source": [
    "# Close the connection\n",
    "client.close()"
   ]
  },
  {
   "cell_type": "code",
   "execution_count": null,
   "metadata": {},
   "outputs": [],
   "source": []
  }
 ],
 "metadata": {
  "kernelspec": {
   "display_name": "mongo-atlas",
   "language": "python",
   "name": "python3"
  },
  "language_info": {
   "codemirror_mode": {
    "name": "ipython",
    "version": 3
   },
   "file_extension": ".py",
   "mimetype": "text/x-python",
   "name": "python",
   "nbconvert_exporter": "python",
   "pygments_lexer": "ipython3",
   "version": "3.10.14"
  }
 },
 "nbformat": 4,
 "nbformat_minor": 2
}
